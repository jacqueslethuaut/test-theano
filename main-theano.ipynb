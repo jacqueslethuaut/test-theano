{
 "cells": [
  {
   "cell_type": "code",
   "execution_count": 4,
   "metadata": {},
   "outputs": [],
   "source": [
    "import pymc3 as pm\n",
    "import numpy as np\n",
    "import arviz as az\n"
   ]
  },
  {
   "cell_type": "code",
   "execution_count": 2,
   "metadata": {},
   "outputs": [],
   "source": [
    "def likelihood(y, X, beta, sigma):\n",
    "    return pm.Normal('y', mu=pm.math.dot(X, beta), sd=sigma, observed=y)\n"
   ]
  },
  {
   "cell_type": "code",
   "execution_count": 5,
   "metadata": {},
   "outputs": [
    {
     "name": "stderr",
     "output_type": "stream",
     "text": [
      "/Users/jacqueslethuaut/Dev/git/Data Science/venv-theano/lib/python3.10/site-packages/deprecat/classic.py:215: FutureWarning: In v4.0, pm.sample will return an `arviz.InferenceData` object instead of a `MultiTrace` by default. You can pass return_inferencedata=True or return_inferencedata=False to be safe and silence this warning.\n",
      "  return wrapped_(*args_, **kwargs_)\n",
      "Auto-assigning NUTS sampler...\n",
      "Initializing NUTS using jitter+adapt_diag...\n",
      "Multiprocess sampling (2 chains in 4 jobs)\n",
      "NUTS: [sigma, beta, lambda_lasso]\n",
      "WARNING (theano.tensor.blas): Using NumPy C-API based implementation for BLAS functions.\n",
      "WARNING (theano.tensor.blas): Using NumPy C-API based implementation for BLAS functions.\n"
     ]
    },
    {
     "data": {
      "text/html": [
       "\n",
       "<style>\n",
       "    /* Turns off some styling */\n",
       "    progress {\n",
       "        /* gets rid of default border in Firefox and Opera. */\n",
       "        border: none;\n",
       "        /* Needs to be in here for Safari polyfill so background images work as expected. */\n",
       "        background-size: auto;\n",
       "    }\n",
       "    progress:not([value]), progress:not([value])::-webkit-progress-bar {\n",
       "        background: repeating-linear-gradient(45deg, #7e7e7e, #7e7e7e 10px, #5c5c5c 10px, #5c5c5c 20px);\n",
       "    }\n",
       "    .progress-bar-interrupted, .progress-bar-interrupted::-webkit-progress-bar {\n",
       "        background: #F44336;\n",
       "    }\n",
       "</style>\n"
      ],
      "text/plain": [
       "<IPython.core.display.HTML object>"
      ]
     },
     "metadata": {},
     "output_type": "display_data"
    },
    {
     "data": {
      "text/html": [
       "\n",
       "    <div>\n",
       "      <progress value='4000' class='' max='4000' style='width:300px; height:20px; vertical-align: middle;'></progress>\n",
       "      100.00% [4000/4000 00:01&lt;00:00 Sampling 2 chains, 0 divergences]\n",
       "    </div>\n",
       "    "
      ],
      "text/plain": [
       "<IPython.core.display.HTML object>"
      ]
     },
     "metadata": {},
     "output_type": "display_data"
    },
    {
     "name": "stderr",
     "output_type": "stream",
     "text": [
      "/Users/jacqueslethuaut/Dev/git/Data Science/venv-theano/lib/python3.10/site-packages/scipy/stats/_continuous_distns.py:624: RuntimeWarning: overflow encountered in _beta_ppf\n",
      "  return _boost._beta_ppf(q, a, b)\n",
      "/Users/jacqueslethuaut/Dev/git/Data Science/venv-theano/lib/python3.10/site-packages/scipy/stats/_continuous_distns.py:624: RuntimeWarning: overflow encountered in _beta_ppf\n",
      "  return _boost._beta_ppf(q, a, b)\n",
      "Sampling 2 chains for 1_000 tune and 1_000 draw iterations (2_000 + 2_000 draws total) took 6 seconds.\n"
     ]
    },
    {
     "name": "stdout",
     "output_type": "stream",
     "text": [
      "Credible Intervals (Bayesian Lasso): [[ 0.35890155  0.53492013]\n",
      " [-0.36008986 -0.17993514]\n",
      " [ 0.18523061  0.37141892]]\n"
     ]
    },
    {
     "name": "stderr",
     "output_type": "stream",
     "text": [
      "/var/folders/6b/d33yz61x5gg85x6s_tyl7lbh0000gn/T/ipykernel_52082/1679059109.py:18: FutureWarning: hdi currently interprets 2d data as (draw, shape) but this will change in a future release to (chain, draw) for coherence with other functions\n",
      "  cred_intervals_lasso = az.hdi(trace[\"beta\"])\n"
     ]
    }
   ],
   "source": [
    "\n",
    "# Simulated data for demonstration (replace with your actual data)\n",
    "X = np.random.randn(100, 3)  # 100 samples, 3 features\n",
    "y = X.dot([0.5, -0.2, 0.3]) + np.random.randn(100) * 0.5  # Generating y with some noise\n",
    "\n",
    "with pm.Model() as lasso_model:\n",
    "    # Priors\n",
    "    lambda_lasso = pm.Exponential(\"lambda_lasso\", lam=1.0)  # Tuning parameter\n",
    "    beta = pm.Laplace(\"beta\", mu=0, b=lambda_lasso, shape=X.shape[1])  # Coefficients\n",
    "    sigma = pm.Exponential(\"sigma\", lam=1.0)  # Noise variance\n",
    "    \n",
    "    # Likelihood\n",
    "    likelihood = pm.Normal('y', mu=pm.math.dot(X, beta), sd=sigma, observed=y)\n",
    "    \n",
    "    # MCMC sampling\n",
    "    trace = pm.sample(1000, tune=1000, chains=2)\n",
    "\n",
    "# Get credible intervals\n",
    "cred_intervals_lasso = az.hdi(trace[\"beta\"])\n",
    "\n",
    "print(\"Credible Intervals (Bayesian Lasso):\", cred_intervals_lasso)\n"
   ]
  }
 ],
 "metadata": {
  "kernelspec": {
   "display_name": "venv-theano",
   "language": "python",
   "name": "python3"
  },
  "language_info": {
   "codemirror_mode": {
    "name": "ipython",
    "version": 3
   },
   "file_extension": ".py",
   "mimetype": "text/x-python",
   "name": "python",
   "nbconvert_exporter": "python",
   "pygments_lexer": "ipython3",
   "version": "3.10.13"
  },
  "orig_nbformat": 4
 },
 "nbformat": 4,
 "nbformat_minor": 2
}
